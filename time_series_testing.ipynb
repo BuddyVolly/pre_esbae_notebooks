{
 "cells": [
  {
   "cell_type": "code",
   "execution_count": null,
   "id": "6c6c067b-6653-4b2e-92c0-b921fe601911",
   "metadata": {
    "tags": []
   },
   "outputs": [],
   "source": [
    "import ee\n",
    "try:\n",
    "    ee.Initialize(opt_url='https://earthengine-highvolume.googleapis.com')\n",
    "except:\n",
    "    ee.Authenticate()\n",
    "    ee.Initialize(opt_url='https://earthengine-highvolume.googleapis.com')\n",
    "\n",
    "from e_sbae.ee import time_series"
   ]
  },
  {
   "cell_type": "markdown",
   "id": "f385fb99-e14c-4794-8277-c1391f882f32",
   "metadata": {},
   "source": [
    "### select your EE asset that keeps your points and the point id name"
   ]
  },
  {
   "cell_type": "code",
   "execution_count": null,
   "id": "1ad2a985-2639-4915-b054-d18d02e446ea",
   "metadata": {
    "tags": []
   },
   "outputs": [],
   "source": [
    "# put in your EE feture collection\n",
    "points = ee.FeatureCollection(\n",
    "    \"your_point_collection\"\n",
    ").sort('point_id')\n",
    "\n",
    "# define the column name fo your unique point identifier\n",
    "point_id_name = \"point_id\"\n",
    "\n",
    "# print out number of total points\n",
    "points.size().getInfo()"
   ]
  },
  {
   "cell_type": "markdown",
   "id": "30b24fc2-a0bf-42c4-a98e-7813ed742c63",
   "metadata": {},
   "source": [
    "### set your basic configuration"
   ]
  },
  {
   "cell_type": "code",
   "execution_count": null,
   "id": "bb1ed7e9-a99a-4930-bf94-b4c8a9f4d07e",
   "metadata": {
    "tags": []
   },
   "outputs": [],
   "source": [
    "# start of calibration period (mainly for bfast)\n",
    "start_calibration = \"2017-01-01\"  # YYYY-MM-DD format\n",
    "\n",
    "# Actual period of interest, i.e. monitoring period\n",
    "start_monitor =     \"2018-01-01\"  # YYYY-MM-DD format\n",
    "end_monitor =       \"2019-03-01\"  # YYYY-MM-DD format\n",
    "\n",
    "# Directory where output and temp files will go\n",
    "outdir = 'results'  # goes to module_results/sbae_point_analysis if set to None\n",
    "\n",
    "# select the bands to extract\n",
    "bands = ['green', 'red', 'nir', 'swir1', 'swir2', 'ndfi'] #, 'brightness', 'greenness', 'wetness'] # other choices: ndfi, ndmi, mndwi, brightness, greenness, wetness\n",
    "\n",
    "# select the band for univariate ts-analysis (has to be inside bands list)\n",
    "ts_band = 'ndfi'\n",
    "\n",
    "# select the resolution to which the satellite data will be resized.\n",
    "scale = 100  # in meters (70 m is half ha, relates to FAO forest definition)\n",
    "\n",
    "### DO NOT CHANGE YET ###\n",
    "satellite='Landsat'  # this is going to be Surface Reflactance, Collection 2, Tier 1 data only\n",
    "max_cloud_cover = 75  # in percentage (0-100)"
   ]
  },
  {
   "cell_type": "markdown",
   "id": "748d51b6-5947-40fe-b17c-6f1909b4bafe",
   "metadata": {
    "tags": []
   },
   "source": [
    "### advanced configuration (you can leave that to defaults)"
   ]
  },
  {
   "cell_type": "code",
   "execution_count": null,
   "id": "f42aa688-fc95-4f49-b8b7-65afb6a7568f",
   "metadata": {
    "tags": []
   },
   "outputs": [],
   "source": [
    "# landsat related parameters\n",
    "lsat_params = {\n",
    "    'l9':     True,\n",
    "    'l8':     True,\n",
    "    'l7':     True,\n",
    "    'l5':     True,\n",
    "    'l4':     True,\n",
    "    'brdf':   True,\n",
    "    'bands':  bands,\n",
    "    'max_cc': max_cloud_cover\n",
    "}\n",
    "\n",
    "### DO NOT CHANGE ###\n",
    "### GATHER ALL INFO INTO A DICT #####\n",
    "config_dict = {\n",
    "    'work_dir':                         outdir,\n",
    "    'workers':                          10,\n",
    "    'max_points_per_chunk':             1500,\n",
    "    'grid_size_levels':                 [0.5, 0.25, 0.125, 0.075],  # definition of chunk sizes in degrees  \n",
    "    'lsat_params':                      lsat_params,\n",
    "    'ts_params': {\n",
    "        'start_calibration':            start_calibration,\n",
    "        'start_monitor':                start_monitor,\n",
    "        'end_monitor':                  end_monitor,\n",
    "        'point_id':                     point_id_name,\n",
    "        'bands':                        bands,\n",
    "        'ts_band':                      ts_band,\n",
    "        'satellite':                    satellite,\n",
    "        'scale':                        scale,\n",
    "        'max_cc':                       max_cloud_cover,\n",
    "        'outlier_removal':              True,\n",
    "        'smooth_ts':                    True       \n",
    "    }\n",
    "}"
   ]
  },
  {
   "cell_type": "markdown",
   "id": "168e1e25-1ede-42ad-a6e6-7061f89d2771",
   "metadata": {},
   "source": [
    "### extract the time-series\n",
    "\n",
    "**Note** that in your tmp folder (home/sepal-user/tmp), you will have a logfile that will be updated, even if you disconnected to your sepal instance in between processing. After processing has finished, the log file will be copied to your results folder, in case processing has gone wrong or is incomplete. The name format of the file is: \n",
    "\n",
    "esbae_log_YYMMDD_HHMMSS (YYMMDD_HHMMSS is the date and hour the logfile was created)"
   ]
  },
  {
   "cell_type": "code",
   "execution_count": null,
   "id": "9fd6056e-fc79-4c3e-afd4-b5dc991807ad",
   "metadata": {
    "tags": []
   },
   "outputs": [],
   "source": [
    "time_series.extract(points, config_dict)"
   ]
  }
 ],
 "metadata": {
  "kernelspec": {
   "display_name": "venv_eSBAE2",
   "language": "python",
   "name": "venv_esbae2"
  },
  "language_info": {
   "codemirror_mode": {
    "name": "ipython",
    "version": 3
   },
   "file_extension": ".py",
   "mimetype": "text/x-python",
   "name": "python",
   "nbconvert_exporter": "python",
   "pygments_lexer": "ipython3",
   "version": "3.8.10"
  }
 },
 "nbformat": 4,
 "nbformat_minor": 5
}
